{
 "cells": [
  {
   "cell_type": "markdown",
   "id": "8f0fed2f-f668-4148-81b3-2dd15b491135",
   "metadata": {},
   "source": [
    "###Desafio Cientista de dados\n"
   ]
  },
  {
   "cell_type": "code",
   "execution_count": 1,
   "id": "0a9a7785-2226-4018-afe0-5a4d24270fa1",
   "metadata": {},
   "outputs": [],
   "source": [
    "#Bibliotecas\n",
    "import pandas as pd\n",
    "import numpy as np\n",
    "import matplotlib.pyplot as plt\n",
    "import seaborn as sns"
   ]
  },
  {
   "cell_type": "code",
   "execution_count": 2,
   "id": "38d7437d-1af5-4c9c-99df-2bfa6904846d",
   "metadata": {},
   "outputs": [],
   "source": [
    "#Importando dados\n",
    "path = 'desafio_manutencao_preditiva_treino.csv'\n",
    "pred_manu_data = pd.read_csv(path)"
   ]
  },
  {
   "cell_type": "markdown",
   "id": "e036dbd5-73fe-4e2b-a658-b37a9833e14f",
   "metadata": {},
   "source": [
    "Descrição estatística dos valores númericos permite visualizar alguns aspectos dos dados, como média, desvio padrão, mediana e seus percentis. É interessante observar que média e mediana estão próximos, o que indica que a presença de Outliers não é tão densa. Isso pode ser mais explorado a frente."
   ]
  },
  {
   "cell_type": "code",
   "execution_count": 3,
   "id": "4552f5bb-b42d-4a62-9794-c717a88fdcc8",
   "metadata": {},
   "outputs": [
    {
     "data": {
      "text/html": [
       "<div>\n",
       "<style scoped>\n",
       "    .dataframe tbody tr th:only-of-type {\n",
       "        vertical-align: middle;\n",
       "    }\n",
       "\n",
       "    .dataframe tbody tr th {\n",
       "        vertical-align: top;\n",
       "    }\n",
       "\n",
       "    .dataframe thead th {\n",
       "        text-align: right;\n",
       "    }\n",
       "</style>\n",
       "<table border=\"1\" class=\"dataframe\">\n",
       "  <thead>\n",
       "    <tr style=\"text-align: right;\">\n",
       "      <th></th>\n",
       "      <th>udi</th>\n",
       "      <th>air_temperature_k</th>\n",
       "      <th>process_temperature_k</th>\n",
       "      <th>rotational_speed_rpm</th>\n",
       "      <th>torque_nm</th>\n",
       "      <th>tool_wear_min</th>\n",
       "    </tr>\n",
       "  </thead>\n",
       "  <tbody>\n",
       "    <tr>\n",
       "      <th>count</th>\n",
       "      <td>6667.000000</td>\n",
       "      <td>6667.000000</td>\n",
       "      <td>6667.000000</td>\n",
       "      <td>6667.000000</td>\n",
       "      <td>6667.000000</td>\n",
       "      <td>6667.000000</td>\n",
       "    </tr>\n",
       "    <tr>\n",
       "      <th>mean</th>\n",
       "      <td>4994.589921</td>\n",
       "      <td>299.992515</td>\n",
       "      <td>309.992620</td>\n",
       "      <td>1537.419529</td>\n",
       "      <td>40.058512</td>\n",
       "      <td>108.098095</td>\n",
       "    </tr>\n",
       "    <tr>\n",
       "      <th>std</th>\n",
       "      <td>2896.125718</td>\n",
       "      <td>1.994710</td>\n",
       "      <td>1.488101</td>\n",
       "      <td>177.182908</td>\n",
       "      <td>9.950804</td>\n",
       "      <td>63.359915</td>\n",
       "    </tr>\n",
       "    <tr>\n",
       "      <th>min</th>\n",
       "      <td>1.000000</td>\n",
       "      <td>295.300000</td>\n",
       "      <td>305.700000</td>\n",
       "      <td>1168.000000</td>\n",
       "      <td>3.800000</td>\n",
       "      <td>0.000000</td>\n",
       "    </tr>\n",
       "    <tr>\n",
       "      <th>25%</th>\n",
       "      <td>2496.500000</td>\n",
       "      <td>298.300000</td>\n",
       "      <td>308.800000</td>\n",
       "      <td>1422.500000</td>\n",
       "      <td>33.200000</td>\n",
       "      <td>54.000000</td>\n",
       "    </tr>\n",
       "    <tr>\n",
       "      <th>50%</th>\n",
       "      <td>4983.000000</td>\n",
       "      <td>300.000000</td>\n",
       "      <td>310.000000</td>\n",
       "      <td>1503.000000</td>\n",
       "      <td>40.200000</td>\n",
       "      <td>108.000000</td>\n",
       "    </tr>\n",
       "    <tr>\n",
       "      <th>75%</th>\n",
       "      <td>7510.500000</td>\n",
       "      <td>301.500000</td>\n",
       "      <td>311.100000</td>\n",
       "      <td>1612.000000</td>\n",
       "      <td>46.800000</td>\n",
       "      <td>162.000000</td>\n",
       "    </tr>\n",
       "    <tr>\n",
       "      <th>max</th>\n",
       "      <td>10000.000000</td>\n",
       "      <td>304.500000</td>\n",
       "      <td>313.800000</td>\n",
       "      <td>2886.000000</td>\n",
       "      <td>76.600000</td>\n",
       "      <td>251.000000</td>\n",
       "    </tr>\n",
       "  </tbody>\n",
       "</table>\n",
       "</div>"
      ],
      "text/plain": [
       "                udi  air_temperature_k  process_temperature_k  \\\n",
       "count   6667.000000        6667.000000            6667.000000   \n",
       "mean    4994.589921         299.992515             309.992620   \n",
       "std     2896.125718           1.994710               1.488101   \n",
       "min        1.000000         295.300000             305.700000   \n",
       "25%     2496.500000         298.300000             308.800000   \n",
       "50%     4983.000000         300.000000             310.000000   \n",
       "75%     7510.500000         301.500000             311.100000   \n",
       "max    10000.000000         304.500000             313.800000   \n",
       "\n",
       "       rotational_speed_rpm    torque_nm  tool_wear_min  \n",
       "count           6667.000000  6667.000000    6667.000000  \n",
       "mean            1537.419529    40.058512     108.098095  \n",
       "std              177.182908     9.950804      63.359915  \n",
       "min             1168.000000     3.800000       0.000000  \n",
       "25%             1422.500000    33.200000      54.000000  \n",
       "50%             1503.000000    40.200000     108.000000  \n",
       "75%             1612.000000    46.800000     162.000000  \n",
       "max             2886.000000    76.600000     251.000000  "
      ]
     },
     "execution_count": 3,
     "metadata": {},
     "output_type": "execute_result"
    }
   ],
   "source": [
    "pred_manu_data.describe()"
   ]
  },
  {
   "cell_type": "code",
   "execution_count": 4,
   "id": "8ec5d7fd-5201-477b-afca-c42a0a796be5",
   "metadata": {},
   "outputs": [
    {
     "data": {
      "text/plain": [
       "Index(['udi', 'product_id', 'type', 'air_temperature_k',\n",
       "       'process_temperature_k', 'rotational_speed_rpm', 'torque_nm',\n",
       "       'tool_wear_min', 'failure_type'],\n",
       "      dtype='object')"
      ]
     },
     "execution_count": 4,
     "metadata": {},
     "output_type": "execute_result"
    }
   ],
   "source": [
    "#Visualização de todos os nomes das colunas\n",
    "pred_manu_data.columns"
   ]
  },
  {
   "cell_type": "code",
   "execution_count": 5,
   "id": "ec09ad86-ebab-4f77-b08f-a8c379905a04",
   "metadata": {},
   "outputs": [
    {
     "data": {
      "text/html": [
       "<div>\n",
       "<style scoped>\n",
       "    .dataframe tbody tr th:only-of-type {\n",
       "        vertical-align: middle;\n",
       "    }\n",
       "\n",
       "    .dataframe tbody tr th {\n",
       "        vertical-align: top;\n",
       "    }\n",
       "\n",
       "    .dataframe thead th {\n",
       "        text-align: right;\n",
       "    }\n",
       "</style>\n",
       "<table border=\"1\" class=\"dataframe\">\n",
       "  <thead>\n",
       "    <tr style=\"text-align: right;\">\n",
       "      <th></th>\n",
       "      <th>udi</th>\n",
       "      <th>product_id</th>\n",
       "      <th>type</th>\n",
       "      <th>air_temperature_k</th>\n",
       "      <th>process_temperature_k</th>\n",
       "      <th>rotational_speed_rpm</th>\n",
       "      <th>torque_nm</th>\n",
       "      <th>tool_wear_min</th>\n",
       "      <th>failure_type</th>\n",
       "    </tr>\n",
       "  </thead>\n",
       "  <tbody>\n",
       "    <tr>\n",
       "      <th>0</th>\n",
       "      <td>1</td>\n",
       "      <td>M14860</td>\n",
       "      <td>M</td>\n",
       "      <td>298.1</td>\n",
       "      <td>308.6</td>\n",
       "      <td>1551</td>\n",
       "      <td>42.8</td>\n",
       "      <td>0</td>\n",
       "      <td>No Failure</td>\n",
       "    </tr>\n",
       "    <tr>\n",
       "      <th>1</th>\n",
       "      <td>2</td>\n",
       "      <td>L47181</td>\n",
       "      <td>L</td>\n",
       "      <td>298.2</td>\n",
       "      <td>308.7</td>\n",
       "      <td>1408</td>\n",
       "      <td>46.3</td>\n",
       "      <td>3</td>\n",
       "      <td>No Failure</td>\n",
       "    </tr>\n",
       "    <tr>\n",
       "      <th>2</th>\n",
       "      <td>5</td>\n",
       "      <td>L47184</td>\n",
       "      <td>L</td>\n",
       "      <td>298.2</td>\n",
       "      <td>308.7</td>\n",
       "      <td>1408</td>\n",
       "      <td>40.0</td>\n",
       "      <td>9</td>\n",
       "      <td>No Failure</td>\n",
       "    </tr>\n",
       "    <tr>\n",
       "      <th>3</th>\n",
       "      <td>6</td>\n",
       "      <td>M14865</td>\n",
       "      <td>M</td>\n",
       "      <td>298.1</td>\n",
       "      <td>308.6</td>\n",
       "      <td>1425</td>\n",
       "      <td>41.9</td>\n",
       "      <td>11</td>\n",
       "      <td>No Failure</td>\n",
       "    </tr>\n",
       "    <tr>\n",
       "      <th>4</th>\n",
       "      <td>7</td>\n",
       "      <td>L47186</td>\n",
       "      <td>L</td>\n",
       "      <td>298.1</td>\n",
       "      <td>308.6</td>\n",
       "      <td>1558</td>\n",
       "      <td>42.4</td>\n",
       "      <td>14</td>\n",
       "      <td>No Failure</td>\n",
       "    </tr>\n",
       "  </tbody>\n",
       "</table>\n",
       "</div>"
      ],
      "text/plain": [
       "   udi product_id type  air_temperature_k  process_temperature_k  \\\n",
       "0    1     M14860    M              298.1                  308.6   \n",
       "1    2     L47181    L              298.2                  308.7   \n",
       "2    5     L47184    L              298.2                  308.7   \n",
       "3    6     M14865    M              298.1                  308.6   \n",
       "4    7     L47186    L              298.1                  308.6   \n",
       "\n",
       "   rotational_speed_rpm  torque_nm  tool_wear_min failure_type  \n",
       "0                  1551       42.8              0   No Failure  \n",
       "1                  1408       46.3              3   No Failure  \n",
       "2                  1408       40.0              9   No Failure  \n",
       "3                  1425       41.9             11   No Failure  \n",
       "4                  1558       42.4             14   No Failure  "
      ]
     },
     "execution_count": 5,
     "metadata": {},
     "output_type": "execute_result"
    }
   ],
   "source": [
    "pred_manu_data.head()"
   ]
  },
  {
   "cell_type": "code",
   "execution_count": 6,
   "id": "15cec7bc-990a-47e8-bd5e-70338140bc07",
   "metadata": {},
   "outputs": [
    {
     "data": {
      "text/plain": [
       "array(['No Failure', 'Power Failure', 'Tool Wear Failure',\n",
       "       'Overstrain Failure', 'Random Failures',\n",
       "       'Heat Dissipation Failure'], dtype=object)"
      ]
     },
     "execution_count": 6,
     "metadata": {},
     "output_type": "execute_result"
    }
   ],
   "source": [
    "#Avaliando quais os tipos de falha\n",
    "pred_manu_data['failure_type'].unique()"
   ]
  },
  {
   "cell_type": "code",
   "execution_count": 8,
   "id": "0926e0da-2f0c-436a-83a6-62f30642400c",
   "metadata": {},
   "outputs": [
    {
     "data": {
      "text/plain": [
       "udi                      0\n",
       "product_id               0\n",
       "type                     0\n",
       "air_temperature_k        0\n",
       "process_temperature_k    0\n",
       "rotational_speed_rpm     0\n",
       "torque_nm                0\n",
       "tool_wear_min            0\n",
       "failure_type             0\n",
       "dtype: int64"
      ]
     },
     "execution_count": 8,
     "metadata": {},
     "output_type": "execute_result"
    }
   ],
   "source": [
    "#Checando por ausência de valores\n",
    "pred_manu_data.isna().sum()"
   ]
  },
  {
   "cell_type": "code",
   "execution_count": 9,
   "id": "19e15c0e-605c-4c58-8cdc-44e9521235c2",
   "metadata": {},
   "outputs": [
    {
     "name": "stdout",
     "output_type": "stream",
     "text": [
      "udi 0\n",
      "product_id 0\n",
      "type 0\n",
      "air_temperature_k 0\n",
      "process_temperature_k 0\n",
      "rotational_speed_rpm 0\n",
      "torque_nm 0\n",
      "tool_wear_min 82\n",
      "failure_type 0\n"
     ]
    }
   ],
   "source": [
    "#Analisando se dados faltantes estão definidos como 0\n",
    "for col in pred_manu_data.columns:\n",
    "    column = pred_manu_data[col] \n",
    "    count = (column == 0).sum()\n",
    "    print(col,count)"
   ]
  },
  {
   "cell_type": "markdown",
   "id": "ecfadfbc-7df6-49ae-b8fa-8fe62197ab37",
   "metadata": {},
   "source": [
    "Como se observa, há 82 casos na coluna \"tool_wear_min\", portanto é interessante uma investigação mais a fundo."
   ]
  },
  {
   "cell_type": "code",
   "execution_count": 10,
   "id": "d10c2573-52b3-4645-96a6-9647ae2d6dd3",
   "metadata": {},
   "outputs": [
    {
     "data": {
      "text/html": [
       "<div>\n",
       "<style scoped>\n",
       "    .dataframe tbody tr th:only-of-type {\n",
       "        vertical-align: middle;\n",
       "    }\n",
       "\n",
       "    .dataframe tbody tr th {\n",
       "        vertical-align: top;\n",
       "    }\n",
       "\n",
       "    .dataframe thead th {\n",
       "        text-align: right;\n",
       "    }\n",
       "</style>\n",
       "<table border=\"1\" class=\"dataframe\">\n",
       "  <thead>\n",
       "    <tr style=\"text-align: right;\">\n",
       "      <th></th>\n",
       "      <th>udi</th>\n",
       "      <th>product_id</th>\n",
       "      <th>type</th>\n",
       "      <th>air_temperature_k</th>\n",
       "      <th>process_temperature_k</th>\n",
       "      <th>rotational_speed_rpm</th>\n",
       "      <th>torque_nm</th>\n",
       "      <th>tool_wear_min</th>\n",
       "      <th>failure_type</th>\n",
       "    </tr>\n",
       "  </thead>\n",
       "  <tbody>\n",
       "    <tr>\n",
       "      <th>0</th>\n",
       "      <td>1</td>\n",
       "      <td>M14860</td>\n",
       "      <td>M</td>\n",
       "      <td>298.1</td>\n",
       "      <td>308.6</td>\n",
       "      <td>1551</td>\n",
       "      <td>42.8</td>\n",
       "      <td>0</td>\n",
       "      <td>No Failure</td>\n",
       "    </tr>\n",
       "    <tr>\n",
       "      <th>57</th>\n",
       "      <td>79</td>\n",
       "      <td>L47258</td>\n",
       "      <td>L</td>\n",
       "      <td>298.8</td>\n",
       "      <td>308.9</td>\n",
       "      <td>1398</td>\n",
       "      <td>51.5</td>\n",
       "      <td>0</td>\n",
       "      <td>No Failure</td>\n",
       "    </tr>\n",
       "    <tr>\n",
       "      <th>114</th>\n",
       "      <td>163</td>\n",
       "      <td>L47342</td>\n",
       "      <td>L</td>\n",
       "      <td>298.3</td>\n",
       "      <td>308.1</td>\n",
       "      <td>1586</td>\n",
       "      <td>35.5</td>\n",
       "      <td>0</td>\n",
       "      <td>No Failure</td>\n",
       "    </tr>\n",
       "    <tr>\n",
       "      <th>172</th>\n",
       "      <td>251</td>\n",
       "      <td>L47430</td>\n",
       "      <td>L</td>\n",
       "      <td>298.0</td>\n",
       "      <td>308.3</td>\n",
       "      <td>1662</td>\n",
       "      <td>32.7</td>\n",
       "      <td>0</td>\n",
       "      <td>No Failure</td>\n",
       "    </tr>\n",
       "    <tr>\n",
       "      <th>231</th>\n",
       "      <td>333</td>\n",
       "      <td>M15192</td>\n",
       "      <td>M</td>\n",
       "      <td>297.6</td>\n",
       "      <td>308.3</td>\n",
       "      <td>1538</td>\n",
       "      <td>40.2</td>\n",
       "      <td>0</td>\n",
       "      <td>No Failure</td>\n",
       "    </tr>\n",
       "  </tbody>\n",
       "</table>\n",
       "</div>"
      ],
      "text/plain": [
       "     udi product_id type  air_temperature_k  process_temperature_k  \\\n",
       "0      1     M14860    M              298.1                  308.6   \n",
       "57    79     L47258    L              298.8                  308.9   \n",
       "114  163     L47342    L              298.3                  308.1   \n",
       "172  251     L47430    L              298.0                  308.3   \n",
       "231  333     M15192    M              297.6                  308.3   \n",
       "\n",
       "     rotational_speed_rpm  torque_nm  tool_wear_min failure_type  \n",
       "0                    1551       42.8              0   No Failure  \n",
       "57                   1398       51.5              0   No Failure  \n",
       "114                  1586       35.5              0   No Failure  \n",
       "172                  1662       32.7              0   No Failure  \n",
       "231                  1538       40.2              0   No Failure  "
      ]
     },
     "execution_count": 10,
     "metadata": {},
     "output_type": "execute_result"
    }
   ],
   "source": [
    "#Investigando os valores de tool_wear_min iguais a 0\n",
    "no_wear = pred_manu_data.loc[pred_manu_data['tool_wear_min'] == 0]\n",
    "no_wear.head()"
   ]
  },
  {
   "cell_type": "markdown",
   "id": "b5e1eb0b-785a-483a-8a99-acd4f69d94f0",
   "metadata": {},
   "source": [
    "Nesse caso, é possível que isso se dê pelo fato das máquinas específicas terem sido usadas por pouco tempo, portanto não houve tempo suficiente para desgaste das ferramentas. \n",
    "\n",
    "Continuando a análise, é interessante ver a distribuição entre máquinas de baixa (L), média (M) e alta qualidade (H)."
   ]
  },
  {
   "cell_type": "code",
   "execution_count": 11,
   "id": "66b240fd-ce17-44af-be47-c397e5885942",
   "metadata": {},
   "outputs": [
    {
     "data": {
      "text/plain": [
       "([<matplotlib.patches.Wedge at 0x1dbf61409a0>,\n",
       "  <matplotlib.patches.Wedge at 0x1dbf61593d0>,\n",
       "  <matplotlib.patches.Wedge at 0x1dbf6159af0>],\n",
       " [Text(-0.35064719612104434, 1.0426152424803936, 'L'),\n",
       "  Text(0.01580853968500669, -1.0998863987126253, 'M'),\n",
       "  Text(1.0475468192749062, -0.3356272656192089, 'H')],\n",
       " [Text(-0.19126210697511506, 0.5686992231711238, '60.33%'),\n",
       "  Text(0.008622839828185467, -0.5999380356614319, '29.80%'),\n",
       "  Text(0.5713891741499488, -0.18306941761047757, '9.87%')])"
      ]
     },
     "execution_count": 11,
     "metadata": {},
     "output_type": "execute_result"
    },
    {
     "data": {
      "image/png": "[encoded data removed]",
      "text/plain": [
       "<Figure size 640x480 with 1 Axes>"
      ]
     },
     "metadata": {},
     "output_type": "display_data"
    }
   ],
   "source": [
    "#Analisando dados\n",
    "plt.title('Qualidade das máquinas')\n",
    "plt.pie(pred_manu_data['type'].value_counts(), labels = pred_manu_data['type'].value_counts().index, autopct = '%.2f%%')"
   ]
  },
  {
   "cell_type": "markdown",
   "id": "fde3ae5c-82c9-4630-8f73-865cf2c3b595",
   "metadata": {},
   "source": [
    "Com isso, observa-se que máquinas de baixa qualidade representam mais de 50% dos dados, portanto no modelo preditivo isso tem de ser bem distribuido, para não haver um viés para esse tipo de máquina.\n",
    "\n",
    "A seguir, foi feita análise de correlação entre os dados."
   ]
  },
  {
   "cell_type": "code",
   "execution_count": 12,
   "id": "b8499d6c-07ca-4886-a5ee-a4dbc479ed70",
   "metadata": {},
   "outputs": [
    {
     "data": {
      "image/png": "[encoded data removed]",
      "text/plain": [
       "<Figure size 1000x1000 with 1 Axes>"
      ]
     },
     "metadata": {},
     "output_type": "display_data"
    }
   ],
   "source": [
    "def plot_corr(df, size=10):\n",
    "    corr = df.corr()    \n",
    "    fig, ax = plt.subplots(figsize = (size, size))\n",
    "    ax.matshow(corr)  \n",
    "    plt.xticks(range(len(corr.columns)), corr.columns) \n",
    "    plt.yticks(range(len(corr.columns)), corr.columns)  \n",
    "plot_corr(pred_manu_data)"
   ]
  },
  {
   "cell_type": "markdown",
   "id": "902fb1d0-6100-4867-8897-705b5cbffbb2",
   "metadata": {},
   "source": [
    "Observa-se uma forte correlação positiva entre as temperaturas e forte correlação negativa entre torque e velocidade de rotação. Quanto aos outros dados, não há uma correlação (linear) significativa.  \n",
    "\n",
    "Abaixo, foram feitas boxplots dos dados para avaliar a distribuição desses e buscar a presença de Outliers. No caso, apenas as colunas de torque e velocidade de rotação apresentaram Outliers, então uma investigação pode ser feita para avaliar se esses dados devem ser mantidos ou se podem prejudicar a análise preditiva."
   ]
  },
  {
   "cell_type": "code",
   "execution_count": 13,
   "id": "abeff5fd-6254-47f7-b25e-f079ee253a7c",
   "metadata": {},
   "outputs": [
    {
     "data": {
      "text/plain": [
       "<AxesSubplot:xlabel='type', ylabel='torque_nm'>"
      ]
     },
     "execution_count": 13,
     "metadata": {},
     "output_type": "execute_result"
    },
    {
     "data": {
      "image/png": "[encoded data removed]",
      "text/plain": [
       "<Figure size 640x480 with 2 Axes>"
      ]
     },
     "metadata": {},
     "output_type": "display_data"
    }
   ],
   "source": [
    "fig, axs = plt.subplots(ncols = 2)\n",
    "sns.boxplot(x = 'type' , y = 'rotational_speed_rpm', data = pred_manu_data, ax = axs[0])\n",
    "sns.boxplot(x = 'type' , y = 'torque_nm', data = pred_manu_data,ax = axs[1])"
   ]
  },
  {
   "cell_type": "code",
   "execution_count": 14,
   "id": "1a169406-91ff-45b4-8004-fad051566fb7",
   "metadata": {},
   "outputs": [
    {
     "data": {
      "text/plain": [
       "No Failure           458\n",
       "Power Failure         18\n",
       "Tool Wear Failure      6\n",
       "Name: failure_type, dtype: int64"
      ]
     },
     "execution_count": 14,
     "metadata": {},
     "output_type": "execute_result"
    }
   ],
   "source": [
    "pred_manu_data.loc[(pred_manu_data['rotational_speed_rpm'] >= 1800),'failure_type'].value_counts()"
   ]
  },
  {
   "cell_type": "code",
   "execution_count": 15,
   "id": "736d8a73-a34f-431c-a652-ebe187e5f847",
   "metadata": {},
   "outputs": [
    {
     "name": "stdout",
     "output_type": "stream",
     "text": [
      "Power Failure               32\n",
      "No Failure                   6\n",
      "Overstrain Failure           6\n",
      "Heat Dissipation Failure     1\n",
      "Name: failure_type, dtype: int64 \n",
      "\n",
      "No Failure       19\n",
      "Power Failure    18\n",
      "Name: failure_type, dtype: int64\n"
     ]
    }
   ],
   "source": [
    "print(pred_manu_data.loc[(pred_manu_data['torque_nm'] >= 65),'failure_type'].value_counts(), '\\n')\n",
    "print(pred_manu_data.loc[(pred_manu_data['torque_nm'] <= 15),'failure_type'].value_counts())"
   ]
  },
  {
   "cell_type": "markdown",
   "id": "ebef4d50-8d6f-4936-a052-a0af94e69c1d",
   "metadata": {},
   "source": [
    "Para comparação, os valores totais por tipo de falha"
   ]
  },
  {
   "cell_type": "code",
   "execution_count": 16,
   "id": "d7325c1e-465d-4ee7-ae11-df74eb8634fc",
   "metadata": {},
   "outputs": [
    {
     "data": {
      "text/plain": [
       "No Failure                  6435\n",
       "Heat Dissipation Failure      75\n",
       "Power Failure                 63\n",
       "Overstrain Failure            52\n",
       "Tool Wear Failure             30\n",
       "Random Failures               12\n",
       "Name: failure_type, dtype: int64"
      ]
     },
     "execution_count": 16,
     "metadata": {},
     "output_type": "execute_result"
    }
   ],
   "source": [
    "pred_manu_data['failure_type'].value_counts()"
   ]
  },
  {
   "cell_type": "markdown",
   "id": "7b9cb344-6914-4873-8fab-524e957befa5",
   "metadata": {},
   "source": [
    "Com base nos dados, apesar de não ser tão representativo para os outros tipos de falha, remover esses valores poderia afetar a análise do tipo 'Power Failure', já que praticamente metade dos dados em que essa falha ocorre estão para torque maior que 65 NM, e outra parte também para torque menor que 15 NM, portanto não podem ser desprezados.\n",
    "\n",
    "\n",
    "Após essa análise, foi feita análise de densidade (KDE Plots) dos dados restantes, para ver se há distribuição normal ou se haveria necessidade de um tratamento para corrigir assimetrias das distribuições."
   ]
  },
  {
   "cell_type": "code",
   "execution_count": 17,
   "id": "961c648d-5027-4955-b42c-60d6de546a16",
   "metadata": {},
   "outputs": [
    {
     "data": {
      "text/plain": [
       "<AxesSubplot:xlabel='process_temperature_k', ylabel='Density'>"
      ]
     },
     "execution_count": 17,
     "metadata": {},
     "output_type": "execute_result"
    },
    {
     "data": {
      "image/png": "[encoded data removed]",
      "text/plain": [
       "<Figure size 640x480 with 2 Axes>"
      ]
     },
     "metadata": {},
     "output_type": "display_data"
    }
   ],
   "source": [
    "fig, axs = plt.subplots(ncols = 2)\n",
    "sns.kdeplot(x = 'air_temperature_k', data = pred_manu_data,ax = axs[0])\n",
    "sns.kdeplot(x = 'process_temperature_k', data = pred_manu_data, ax = axs[1])"
   ]
  },
  {
   "cell_type": "code",
   "execution_count": 18,
   "id": "1a4ccaf6-ac55-4ba1-ac31-efd88417a1d6",
   "metadata": {},
   "outputs": [
    {
     "data": {
      "text/plain": [
       "<AxesSubplot:xlabel='torque_nm', ylabel='Density'>"
      ]
     },
     "execution_count": 18,
     "metadata": {},
     "output_type": "execute_result"
    },
    {
     "data": {
      "image/png": "[encoded data removed]",
      "text/plain": [
       "<Figure size 640x480 with 2 Axes>"
      ]
     },
     "metadata": {},
     "output_type": "display_data"
    }
   ],
   "source": [
    "fig, axs = plt.subplots(ncols = 2)\n",
    "sns.kdeplot(x = 'rotational_speed_rpm', data = pred_manu_data,ax = axs[0])\n",
    "sns.kdeplot(x = 'torque_nm', data = pred_manu_data, ax = axs[1])"
   ]
  },
  {
   "cell_type": "markdown",
   "id": "c5eff489-eec8-4a97-8971-ec7675b67858",
   "metadata": {},
   "source": [
    "Como todos os dados seguem uma praticamente distribuição normal - ou gaussiana - não há necessidade de um tratamento logarítimico para correção. \n",
    "\n",
    "Abaixo, com base nos plots de correlação anteriores, foram analisadas as correlações entre as temperaturas e correlações entre torque e velocidade."
   ]
  },
  {
   "cell_type": "code",
   "execution_count": 19,
   "id": "b970bb18-d108-4760-b724-993709f55b6d",
   "metadata": {},
   "outputs": [
    {
     "data": {
      "text/plain": [
       "<AxesSubplot:xlabel='air_temperature_k', ylabel='process_temperature_k'>"
      ]
     },
     "execution_count": 19,
     "metadata": {},
     "output_type": "execute_result"
    },
    {
     "data": {
      "image/png": "[encoded data removed]",
      "text/plain": [
       "<Figure size 640x480 with 1 Axes>"
      ]
     },
     "metadata": {},
     "output_type": "display_data"
    }
   ],
   "source": [
    "\n",
    "sns.regplot(data= pred_manu_data, x= 'air_temperature_k', y = 'process_temperature_k')\n"
   ]
  },
  {
   "cell_type": "code",
   "execution_count": 20,
   "id": "9ea0433e-1ef3-41d2-8aa9-a7953e103f39",
   "metadata": {},
   "outputs": [
    {
     "data": {
      "text/plain": [
       "<AxesSubplot:xlabel='torque_nm', ylabel='rotational_speed_rpm'>"
      ]
     },
     "execution_count": 20,
     "metadata": {},
     "output_type": "execute_result"
    },
    {
     "data": {
      "image/png": "[encoded data removed]",
      "text/plain": [
       "<Figure size 640x480 with 1 Axes>"
      ]
     },
     "metadata": {},
     "output_type": "display_data"
    }
   ],
   "source": [
    "sns.regplot(data= pred_manu_data, x= 'torque_nm', y = 'rotational_speed_rpm',order = 2)"
   ]
  },
  {
   "cell_type": "markdown",
   "id": "b37dcb0e-1598-4197-8c60-b1036d5e04a1",
   "metadata": {},
   "source": [
    " Por fim, também foi analisado a distribuição de falhas por tipo de máquina."
   ]
  },
  {
   "cell_type": "code",
   "execution_count": 21,
   "id": "4d51d1c4-5740-452b-9c1d-213bab7d3ba3",
   "metadata": {},
   "outputs": [],
   "source": [
    "by_type_fail = pred_manu_data.groupby(['failure_type','type'])['udi'].count()\n",
    "by_type_fail = by_type_fail.reset_index(level=[0,1])\n",
    "by_type_fail = by_type_fail.drop([3,4,5])"
   ]
  },
  {
   "cell_type": "code",
   "execution_count": 22,
   "id": "c89ca58b-7f40-4f77-ada7-f984f96cc4e2",
   "metadata": {},
   "outputs": [
    {
     "data": {
      "text/plain": [
       "(array([0, 1, 2, 3, 4]),\n",
       " [Text(0, 0, 'Heat Dissipation Failure'),\n",
       "  Text(1, 0, 'Overstrain Failure'),\n",
       "  Text(2, 0, 'Power Failure'),\n",
       "  Text(3, 0, 'Random Failures'),\n",
       "  Text(4, 0, 'Tool Wear Failure')])"
      ]
     },
     "execution_count": 22,
     "metadata": {},
     "output_type": "execute_result"
    },
    {
     "data": {
      "image/png": "[encoded data removed]",
      "text/plain": [
       "<Figure size 640x480 with 1 Axes>"
      ]
     },
     "metadata": {},
     "output_type": "display_data"
    }
   ],
   "source": [
    "plt.title('Falha por tipo de máquina')\n",
    "\n",
    "sns.barplot(x = 'failure_type' , y = 'udi',data = by_type_fail, hue = 'type')\n",
    "plt.xlabel('Tipo da falha')\n",
    "plt.ylabel('Falhas')\n",
    "plt.xticks(rotation = 45)"
   ]
  },
  {
   "cell_type": "markdown",
   "id": "48895ce4-fdb9-4b42-b22d-1c942336ef50",
   "metadata": {},
   "source": [
    "Devido ao grande volume de dados para tipo L, é visível que esse domina as categorias de falha, mas também é interessante observar que as máquinas do tipo H apresentaram valor próximo de L para falhas aleatórias ao passo que tipo M quase não apresentam para essa mesma falha.\n",
    "\n",
    "A descrição do banco de dados traz informações importantes sobre os tipos de falha que devem ser levados em conta, como no caso de falha por dissipação de calor (Heat Dissipation Failure) ocorrer com diferença entre temperaturas de 8.6 K e velocidade abaixo de 1380 rpm. Portanto, novas colunas podem ser criadas para auxiliar o modelo preditivo a reconhecer padrões.   "
   ]
  },
  {
   "cell_type": "code",
   "execution_count": 23,
   "id": "967722e9-df09-44c9-ab78-1c3a43a8cd7e",
   "metadata": {},
   "outputs": [
    {
     "data": {
      "text/html": [
       "<div>\n",
       "<style scoped>\n",
       "    .dataframe tbody tr th:only-of-type {\n",
       "        vertical-align: middle;\n",
       "    }\n",
       "\n",
       "    .dataframe tbody tr th {\n",
       "        vertical-align: top;\n",
       "    }\n",
       "\n",
       "    .dataframe thead th {\n",
       "        text-align: right;\n",
       "    }\n",
       "</style>\n",
       "<table border=\"1\" class=\"dataframe\">\n",
       "  <thead>\n",
       "    <tr style=\"text-align: right;\">\n",
       "      <th></th>\n",
       "      <th>udi</th>\n",
       "      <th>product_id</th>\n",
       "      <th>type</th>\n",
       "      <th>air_temperature_k</th>\n",
       "      <th>process_temperature_k</th>\n",
       "      <th>rotational_speed_rpm</th>\n",
       "      <th>torque_nm</th>\n",
       "      <th>tool_wear_min</th>\n",
       "      <th>failure_type</th>\n",
       "      <th>temp_grad</th>\n",
       "      <th>pot</th>\n",
       "      <th>wear_N</th>\n",
       "    </tr>\n",
       "  </thead>\n",
       "  <tbody>\n",
       "    <tr>\n",
       "      <th>0</th>\n",
       "      <td>1</td>\n",
       "      <td>M14860</td>\n",
       "      <td>M</td>\n",
       "      <td>298.1</td>\n",
       "      <td>308.6</td>\n",
       "      <td>1551</td>\n",
       "      <td>42.8</td>\n",
       "      <td>0</td>\n",
       "      <td>No Failure</td>\n",
       "      <td>10.5</td>\n",
       "      <td>6951.590560</td>\n",
       "      <td>0.0</td>\n",
       "    </tr>\n",
       "    <tr>\n",
       "      <th>1</th>\n",
       "      <td>2</td>\n",
       "      <td>L47181</td>\n",
       "      <td>L</td>\n",
       "      <td>298.2</td>\n",
       "      <td>308.7</td>\n",
       "      <td>1408</td>\n",
       "      <td>46.3</td>\n",
       "      <td>3</td>\n",
       "      <td>No Failure</td>\n",
       "      <td>10.5</td>\n",
       "      <td>6826.722724</td>\n",
       "      <td>138.9</td>\n",
       "    </tr>\n",
       "    <tr>\n",
       "      <th>2</th>\n",
       "      <td>5</td>\n",
       "      <td>L47184</td>\n",
       "      <td>L</td>\n",
       "      <td>298.2</td>\n",
       "      <td>308.7</td>\n",
       "      <td>1408</td>\n",
       "      <td>40.0</td>\n",
       "      <td>9</td>\n",
       "      <td>No Failure</td>\n",
       "      <td>10.5</td>\n",
       "      <td>5897.816608</td>\n",
       "      <td>360.0</td>\n",
       "    </tr>\n",
       "    <tr>\n",
       "      <th>3</th>\n",
       "      <td>6</td>\n",
       "      <td>M14865</td>\n",
       "      <td>M</td>\n",
       "      <td>298.1</td>\n",
       "      <td>308.6</td>\n",
       "      <td>1425</td>\n",
       "      <td>41.9</td>\n",
       "      <td>11</td>\n",
       "      <td>No Failure</td>\n",
       "      <td>10.5</td>\n",
       "      <td>6252.554779</td>\n",
       "      <td>460.9</td>\n",
       "    </tr>\n",
       "    <tr>\n",
       "      <th>4</th>\n",
       "      <td>7</td>\n",
       "      <td>L47186</td>\n",
       "      <td>L</td>\n",
       "      <td>298.1</td>\n",
       "      <td>308.6</td>\n",
       "      <td>1558</td>\n",
       "      <td>42.4</td>\n",
       "      <td>14</td>\n",
       "      <td>No Failure</td>\n",
       "      <td>10.5</td>\n",
       "      <td>6917.703247</td>\n",
       "      <td>593.6</td>\n",
       "    </tr>\n",
       "  </tbody>\n",
       "</table>\n",
       "</div>"
      ],
      "text/plain": [
       "   udi product_id type  air_temperature_k  process_temperature_k  \\\n",
       "0    1     M14860    M              298.1                  308.6   \n",
       "1    2     L47181    L              298.2                  308.7   \n",
       "2    5     L47184    L              298.2                  308.7   \n",
       "3    6     M14865    M              298.1                  308.6   \n",
       "4    7     L47186    L              298.1                  308.6   \n",
       "\n",
       "   rotational_speed_rpm  torque_nm  tool_wear_min failure_type  temp_grad  \\\n",
       "0                  1551       42.8              0   No Failure       10.5   \n",
       "1                  1408       46.3              3   No Failure       10.5   \n",
       "2                  1408       40.0              9   No Failure       10.5   \n",
       "3                  1425       41.9             11   No Failure       10.5   \n",
       "4                  1558       42.4             14   No Failure       10.5   \n",
       "\n",
       "           pot  wear_N  \n",
       "0  6951.590560     0.0  \n",
       "1  6826.722724   138.9  \n",
       "2  5897.816608   360.0  \n",
       "3  6252.554779   460.9  \n",
       "4  6917.703247   593.6  "
      ]
     },
     "execution_count": 23,
     "metadata": {},
     "output_type": "execute_result"
    }
   ],
   "source": [
    "#Novas colunas\n",
    "pred_manu_data['temp_grad'] = pred_manu_data['process_temperature_k'] - pred_manu_data['air_temperature_k']\n",
    "pred_manu_data['pot'] = pred_manu_data['torque_nm']*(pred_manu_data['rotational_speed_rpm']*(2*np.pi)/60)\n",
    "pred_manu_data['wear_N'] = pred_manu_data['tool_wear_min']*pred_manu_data['torque_nm']\n",
    "\n",
    "pred_manu_data.head()"
   ]
  },
  {
   "cell_type": "markdown",
   "id": "02981579-3fee-41fe-9e2e-eba578323199",
   "metadata": {},
   "source": [
    "No que diz respeito aos dados disponíveis, para as variáveis serão removidas as colunas 'udi' e 'product_id', já para dados futuros podem existir outros tipos de máquina com IDs diferentes. "
   ]
  },
  {
   "cell_type": "code",
   "execution_count": 24,
   "id": "bfc413b2-5f52-4e1f-86b3-98b48245ac68",
   "metadata": {},
   "outputs": [
    {
     "data": {
      "text/html": [
       "<div>\n",
       "<style scoped>\n",
       "    .dataframe tbody tr th:only-of-type {\n",
       "        vertical-align: middle;\n",
       "    }\n",
       "\n",
       "    .dataframe tbody tr th {\n",
       "        vertical-align: top;\n",
       "    }\n",
       "\n",
       "    .dataframe thead th {\n",
       "        text-align: right;\n",
       "    }\n",
       "</style>\n",
       "<table border=\"1\" class=\"dataframe\">\n",
       "  <thead>\n",
       "    <tr style=\"text-align: right;\">\n",
       "      <th></th>\n",
       "      <th>type</th>\n",
       "      <th>air_temperature_k</th>\n",
       "      <th>process_temperature_k</th>\n",
       "      <th>rotational_speed_rpm</th>\n",
       "      <th>torque_nm</th>\n",
       "      <th>tool_wear_min</th>\n",
       "      <th>failure_type</th>\n",
       "      <th>temp_grad</th>\n",
       "      <th>pot</th>\n",
       "      <th>wear_N</th>\n",
       "    </tr>\n",
       "  </thead>\n",
       "  <tbody>\n",
       "    <tr>\n",
       "      <th>0</th>\n",
       "      <td>M</td>\n",
       "      <td>298.1</td>\n",
       "      <td>308.6</td>\n",
       "      <td>1551</td>\n",
       "      <td>42.8</td>\n",
       "      <td>0</td>\n",
       "      <td>No Failure</td>\n",
       "      <td>10.5</td>\n",
       "      <td>6951.590560</td>\n",
       "      <td>0.0</td>\n",
       "    </tr>\n",
       "    <tr>\n",
       "      <th>1</th>\n",
       "      <td>L</td>\n",
       "      <td>298.2</td>\n",
       "      <td>308.7</td>\n",
       "      <td>1408</td>\n",
       "      <td>46.3</td>\n",
       "      <td>3</td>\n",
       "      <td>No Failure</td>\n",
       "      <td>10.5</td>\n",
       "      <td>6826.722724</td>\n",
       "      <td>138.9</td>\n",
       "    </tr>\n",
       "    <tr>\n",
       "      <th>2</th>\n",
       "      <td>L</td>\n",
       "      <td>298.2</td>\n",
       "      <td>308.7</td>\n",
       "      <td>1408</td>\n",
       "      <td>40.0</td>\n",
       "      <td>9</td>\n",
       "      <td>No Failure</td>\n",
       "      <td>10.5</td>\n",
       "      <td>5897.816608</td>\n",
       "      <td>360.0</td>\n",
       "    </tr>\n",
       "    <tr>\n",
       "      <th>3</th>\n",
       "      <td>M</td>\n",
       "      <td>298.1</td>\n",
       "      <td>308.6</td>\n",
       "      <td>1425</td>\n",
       "      <td>41.9</td>\n",
       "      <td>11</td>\n",
       "      <td>No Failure</td>\n",
       "      <td>10.5</td>\n",
       "      <td>6252.554779</td>\n",
       "      <td>460.9</td>\n",
       "    </tr>\n",
       "    <tr>\n",
       "      <th>4</th>\n",
       "      <td>L</td>\n",
       "      <td>298.1</td>\n",
       "      <td>308.6</td>\n",
       "      <td>1558</td>\n",
       "      <td>42.4</td>\n",
       "      <td>14</td>\n",
       "      <td>No Failure</td>\n",
       "      <td>10.5</td>\n",
       "      <td>6917.703247</td>\n",
       "      <td>593.6</td>\n",
       "    </tr>\n",
       "  </tbody>\n",
       "</table>\n",
       "</div>"
      ],
      "text/plain": [
       "  type  air_temperature_k  process_temperature_k  rotational_speed_rpm  \\\n",
       "0    M              298.1                  308.6                  1551   \n",
       "1    L              298.2                  308.7                  1408   \n",
       "2    L              298.2                  308.7                  1408   \n",
       "3    M              298.1                  308.6                  1425   \n",
       "4    L              298.1                  308.6                  1558   \n",
       "\n",
       "   torque_nm  tool_wear_min failure_type  temp_grad          pot  wear_N  \n",
       "0       42.8              0   No Failure       10.5  6951.590560     0.0  \n",
       "1       46.3              3   No Failure       10.5  6826.722724   138.9  \n",
       "2       40.0              9   No Failure       10.5  5897.816608   360.0  \n",
       "3       41.9             11   No Failure       10.5  6252.554779   460.9  \n",
       "4       42.4             14   No Failure       10.5  6917.703247   593.6  "
      ]
     },
     "execution_count": 24,
     "metadata": {},
     "output_type": "execute_result"
    }
   ],
   "source": [
    "pred_manu_data_2 = pred_manu_data.drop(['udi','product_id'],axis = 1)\n",
    "pred_manu_data_2.head()"
   ]
  },
  {
   "cell_type": "markdown",
   "id": "54f20904-4092-4a5c-8d8e-d01ed1399952",
   "metadata": {},
   "source": [
    "Desse modo, com a análise finalizada, é preciso finalizar o tratamento das variáveis categóricas, no caso, 'type', e o tratamento da variável \"target\", no caso, 'failure_type'. na primeira será aplicada um 'One-Hotencoding', que irá criar uma coluna correspondente a cada tipo de máquina e irá associar 1 ou 0 para cada máquina correspondente, e para a segunda será aplicada 'label encoding', que associa cada classe única a um valor numérico. Isso é feito para que os modelos de ML possam trabalhar, já que não são capazes de trabalhar com dados categóricos. \n",
    "\n",
    "\n",
    "Uma aproximação para essa operação é separar os atributos em categóricos e numéricos, mas como neste caso só há duas colunas de valores categóricos, então não é necessário.\n",
    "\n",
    "O Label Encoding será aplicado diretamente no DataFrame, e o One-Hot Encoding será aplicado apenas após separação dos dados em teste- validação."
   ]
  },
  {
   "cell_type": "code",
   "execution_count": 36,
   "id": "9aa0e81f-6696-4026-b86a-bba6ca5a055d",
   "metadata": {},
   "outputs": [
    {
     "data": {
      "text/html": [
       "<div>\n",
       "<style scoped>\n",
       "    .dataframe tbody tr th:only-of-type {\n",
       "        vertical-align: middle;\n",
       "    }\n",
       "\n",
       "    .dataframe tbody tr th {\n",
       "        vertical-align: top;\n",
       "    }\n",
       "\n",
       "    .dataframe thead th {\n",
       "        text-align: right;\n",
       "    }\n",
       "</style>\n",
       "<table border=\"1\" class=\"dataframe\">\n",
       "  <thead>\n",
       "    <tr style=\"text-align: right;\">\n",
       "      <th></th>\n",
       "      <th>type</th>\n",
       "      <th>air_temperature_k</th>\n",
       "      <th>process_temperature_k</th>\n",
       "      <th>rotational_speed_rpm</th>\n",
       "      <th>torque_nm</th>\n",
       "      <th>tool_wear_min</th>\n",
       "      <th>failure_type</th>\n",
       "      <th>temp_grad</th>\n",
       "      <th>pot</th>\n",
       "      <th>wear_N</th>\n",
       "    </tr>\n",
       "  </thead>\n",
       "  <tbody>\n",
       "    <tr>\n",
       "      <th>0</th>\n",
       "      <td>M</td>\n",
       "      <td>298.1</td>\n",
       "      <td>308.6</td>\n",
       "      <td>1551</td>\n",
       "      <td>42.8</td>\n",
       "      <td>0</td>\n",
       "      <td>1</td>\n",
       "      <td>10.5</td>\n",
       "      <td>6951.590560</td>\n",
       "      <td>0.0</td>\n",
       "    </tr>\n",
       "    <tr>\n",
       "      <th>1</th>\n",
       "      <td>L</td>\n",
       "      <td>298.2</td>\n",
       "      <td>308.7</td>\n",
       "      <td>1408</td>\n",
       "      <td>46.3</td>\n",
       "      <td>3</td>\n",
       "      <td>1</td>\n",
       "      <td>10.5</td>\n",
       "      <td>6826.722724</td>\n",
       "      <td>138.9</td>\n",
       "    </tr>\n",
       "    <tr>\n",
       "      <th>2</th>\n",
       "      <td>L</td>\n",
       "      <td>298.2</td>\n",
       "      <td>308.7</td>\n",
       "      <td>1408</td>\n",
       "      <td>40.0</td>\n",
       "      <td>9</td>\n",
       "      <td>1</td>\n",
       "      <td>10.5</td>\n",
       "      <td>5897.816608</td>\n",
       "      <td>360.0</td>\n",
       "    </tr>\n",
       "    <tr>\n",
       "      <th>3</th>\n",
       "      <td>M</td>\n",
       "      <td>298.1</td>\n",
       "      <td>308.6</td>\n",
       "      <td>1425</td>\n",
       "      <td>41.9</td>\n",
       "      <td>11</td>\n",
       "      <td>1</td>\n",
       "      <td>10.5</td>\n",
       "      <td>6252.554779</td>\n",
       "      <td>460.9</td>\n",
       "    </tr>\n",
       "    <tr>\n",
       "      <th>4</th>\n",
       "      <td>L</td>\n",
       "      <td>298.1</td>\n",
       "      <td>308.6</td>\n",
       "      <td>1558</td>\n",
       "      <td>42.4</td>\n",
       "      <td>14</td>\n",
       "      <td>1</td>\n",
       "      <td>10.5</td>\n",
       "      <td>6917.703247</td>\n",
       "      <td>593.6</td>\n",
       "    </tr>\n",
       "  </tbody>\n",
       "</table>\n",
       "</div>"
      ],
      "text/plain": [
       "  type  air_temperature_k  process_temperature_k  rotational_speed_rpm  \\\n",
       "0    M              298.1                  308.6                  1551   \n",
       "1    L              298.2                  308.7                  1408   \n",
       "2    L              298.2                  308.7                  1408   \n",
       "3    M              298.1                  308.6                  1425   \n",
       "4    L              298.1                  308.6                  1558   \n",
       "\n",
       "   torque_nm  tool_wear_min  failure_type  temp_grad          pot  wear_N  \n",
       "0       42.8              0             1       10.5  6951.590560     0.0  \n",
       "1       46.3              3             1       10.5  6826.722724   138.9  \n",
       "2       40.0              9             1       10.5  5897.816608   360.0  \n",
       "3       41.9             11             1       10.5  6252.554779   460.9  \n",
       "4       42.4             14             1       10.5  6917.703247   593.6  "
      ]
     },
     "execution_count": 36,
     "metadata": {},
     "output_type": "execute_result"
    }
   ],
   "source": [
    "from sklearn.preprocessing import LabelEncoder, OneHotEncoder\n",
    "l_e = LabelEncoder()\n",
    "O_H = OneHotEncoder(sparse = False)\n",
    "pred_labeled = pred_manu_data_2.copy()\n",
    "pred_labeled['failure_type'] = l_e.fit_transform(label_pred['failure_type'].astype(object))\n",
    "pred_labeled.head()"
   ]
  },
  {
   "cell_type": "code",
   "execution_count": 38,
   "id": "918b82eb-d3b8-45be-8d53-42f21de242a8",
   "metadata": {},
   "outputs": [
    {
     "data": {
      "text/html": [
       "<div>\n",
       "<style scoped>\n",
       "    .dataframe tbody tr th:only-of-type {\n",
       "        vertical-align: middle;\n",
       "    }\n",
       "\n",
       "    .dataframe tbody tr th {\n",
       "        vertical-align: top;\n",
       "    }\n",
       "\n",
       "    .dataframe thead th {\n",
       "        text-align: right;\n",
       "    }\n",
       "</style>\n",
       "<table border=\"1\" class=\"dataframe\">\n",
       "  <thead>\n",
       "    <tr style=\"text-align: right;\">\n",
       "      <th></th>\n",
       "      <th>type</th>\n",
       "      <th>air_temperature_k</th>\n",
       "      <th>process_temperature_k</th>\n",
       "      <th>rotational_speed_rpm</th>\n",
       "      <th>torque_nm</th>\n",
       "      <th>tool_wear_min</th>\n",
       "      <th>temp_grad</th>\n",
       "      <th>pot</th>\n",
       "      <th>wear_N</th>\n",
       "    </tr>\n",
       "  </thead>\n",
       "  <tbody>\n",
       "    <tr>\n",
       "      <th>0</th>\n",
       "      <td>M</td>\n",
       "      <td>298.1</td>\n",
       "      <td>308.6</td>\n",
       "      <td>1551</td>\n",
       "      <td>42.8</td>\n",
       "      <td>0</td>\n",
       "      <td>10.5</td>\n",
       "      <td>6951.590560</td>\n",
       "      <td>0.0</td>\n",
       "    </tr>\n",
       "    <tr>\n",
       "      <th>1</th>\n",
       "      <td>L</td>\n",
       "      <td>298.2</td>\n",
       "      <td>308.7</td>\n",
       "      <td>1408</td>\n",
       "      <td>46.3</td>\n",
       "      <td>3</td>\n",
       "      <td>10.5</td>\n",
       "      <td>6826.722724</td>\n",
       "      <td>138.9</td>\n",
       "    </tr>\n",
       "    <tr>\n",
       "      <th>2</th>\n",
       "      <td>L</td>\n",
       "      <td>298.2</td>\n",
       "      <td>308.7</td>\n",
       "      <td>1408</td>\n",
       "      <td>40.0</td>\n",
       "      <td>9</td>\n",
       "      <td>10.5</td>\n",
       "      <td>5897.816608</td>\n",
       "      <td>360.0</td>\n",
       "    </tr>\n",
       "    <tr>\n",
       "      <th>3</th>\n",
       "      <td>M</td>\n",
       "      <td>298.1</td>\n",
       "      <td>308.6</td>\n",
       "      <td>1425</td>\n",
       "      <td>41.9</td>\n",
       "      <td>11</td>\n",
       "      <td>10.5</td>\n",
       "      <td>6252.554779</td>\n",
       "      <td>460.9</td>\n",
       "    </tr>\n",
       "    <tr>\n",
       "      <th>4</th>\n",
       "      <td>L</td>\n",
       "      <td>298.1</td>\n",
       "      <td>308.6</td>\n",
       "      <td>1558</td>\n",
       "      <td>42.4</td>\n",
       "      <td>14</td>\n",
       "      <td>10.5</td>\n",
       "      <td>6917.703247</td>\n",
       "      <td>593.6</td>\n",
       "    </tr>\n",
       "  </tbody>\n",
       "</table>\n",
       "</div>"
      ],
      "text/plain": [
       "  type  air_temperature_k  process_temperature_k  rotational_speed_rpm  \\\n",
       "0    M              298.1                  308.6                  1551   \n",
       "1    L              298.2                  308.7                  1408   \n",
       "2    L              298.2                  308.7                  1408   \n",
       "3    M              298.1                  308.6                  1425   \n",
       "4    L              298.1                  308.6                  1558   \n",
       "\n",
       "   torque_nm  tool_wear_min  temp_grad          pot  wear_N  \n",
       "0       42.8              0       10.5  6951.590560     0.0  \n",
       "1       46.3              3       10.5  6826.722724   138.9  \n",
       "2       40.0              9       10.5  5897.816608   360.0  \n",
       "3       41.9             11       10.5  6252.554779   460.9  \n",
       "4       42.4             14       10.5  6917.703247   593.6  "
      ]
     },
     "execution_count": 38,
     "metadata": {},
     "output_type": "execute_result"
    }
   ],
   "source": [
    "#Separando os dados para split\n",
    "X = pred_labeled.copy()\n",
    "y = X.pop('failure_type')\n",
    "\n",
    "X.head()"
   ]
  },
  {
   "cell_type": "code",
   "execution_count": null,
   "id": "4b2f7cee-5ad4-41d7-9371-e05ae46c6897",
   "metadata": {},
   "outputs": [],
   "source": []
  },
  {
   "cell_type": "code",
   "execution_count": 39,
   "id": "4355795d-2883-40ad-a5be-4cdf97042b26",
   "metadata": {},
   "outputs": [],
   "source": [
    "#Separação dos dados entre treino e validação\n",
    "from sklearn.model_selection import train_test_split\n",
    "X_train, X_valid, y_train, y_valid = train_test_split(X, y, train_size=0.7, test_size=0.3,\n",
    "                                                                random_state=42)"
   ]
  },
  {
   "cell_type": "code",
   "execution_count": 54,
   "id": "a3c42e14-15d2-43c3-aedb-f706b6f07024",
   "metadata": {},
   "outputs": [
    {
     "data": {
      "text/html": [
       "<div>\n",
       "<style scoped>\n",
       "    .dataframe tbody tr th:only-of-type {\n",
       "        vertical-align: middle;\n",
       "    }\n",
       "\n",
       "    .dataframe tbody tr th {\n",
       "        vertical-align: top;\n",
       "    }\n",
       "\n",
       "    .dataframe thead th {\n",
       "        text-align: right;\n",
       "    }\n",
       "</style>\n",
       "<table border=\"1\" class=\"dataframe\">\n",
       "  <thead>\n",
       "    <tr style=\"text-align: right;\">\n",
       "      <th></th>\n",
       "      <th>air_temperature_k</th>\n",
       "      <th>process_temperature_k</th>\n",
       "      <th>rotational_speed_rpm</th>\n",
       "      <th>torque_nm</th>\n",
       "      <th>tool_wear_min</th>\n",
       "      <th>temp_grad</th>\n",
       "      <th>pot</th>\n",
       "      <th>wear_N</th>\n",
       "      <th>x0_H</th>\n",
       "      <th>x0_L</th>\n",
       "      <th>x0_M</th>\n",
       "    </tr>\n",
       "  </thead>\n",
       "  <tbody>\n",
       "    <tr>\n",
       "      <th>5119</th>\n",
       "      <td>300.7</td>\n",
       "      <td>311.5</td>\n",
       "      <td>1441</td>\n",
       "      <td>40.6</td>\n",
       "      <td>33</td>\n",
       "      <td>10.8</td>\n",
       "      <td>6126.587385</td>\n",
       "      <td>1339.8</td>\n",
       "      <td>0.0</td>\n",
       "      <td>0.0</td>\n",
       "      <td>1.0</td>\n",
       "    </tr>\n",
       "    <tr>\n",
       "      <th>1684</th>\n",
       "      <td>298.9</td>\n",
       "      <td>308.6</td>\n",
       "      <td>1425</td>\n",
       "      <td>49.6</td>\n",
       "      <td>35</td>\n",
       "      <td>9.7</td>\n",
       "      <td>7401.592292</td>\n",
       "      <td>1736.0</td>\n",
       "      <td>0.0</td>\n",
       "      <td>0.0</td>\n",
       "      <td>1.0</td>\n",
       "    </tr>\n",
       "    <tr>\n",
       "      <th>1586</th>\n",
       "      <td>299.2</td>\n",
       "      <td>308.4</td>\n",
       "      <td>1476</td>\n",
       "      <td>32.7</td>\n",
       "      <td>101</td>\n",
       "      <td>9.2</td>\n",
       "      <td>5054.319925</td>\n",
       "      <td>3302.7</td>\n",
       "      <td>0.0</td>\n",
       "      <td>0.0</td>\n",
       "      <td>1.0</td>\n",
       "    </tr>\n",
       "    <tr>\n",
       "      <th>5091</th>\n",
       "      <td>300.4</td>\n",
       "      <td>311.4</td>\n",
       "      <td>1728</td>\n",
       "      <td>31.7</td>\n",
       "      <td>133</td>\n",
       "      <td>11.0</td>\n",
       "      <td>5736.296858</td>\n",
       "      <td>4216.1</td>\n",
       "      <td>0.0</td>\n",
       "      <td>1.0</td>\n",
       "      <td>0.0</td>\n",
       "    </tr>\n",
       "    <tr>\n",
       "      <th>1338</th>\n",
       "      <td>298.3</td>\n",
       "      <td>308.0</td>\n",
       "      <td>1451</td>\n",
       "      <td>47.1</td>\n",
       "      <td>196</td>\n",
       "      <td>9.7</td>\n",
       "      <td>7156.767976</td>\n",
       "      <td>9231.6</td>\n",
       "      <td>0.0</td>\n",
       "      <td>1.0</td>\n",
       "      <td>0.0</td>\n",
       "    </tr>\n",
       "  </tbody>\n",
       "</table>\n",
       "</div>"
      ],
      "text/plain": [
       "      air_temperature_k  process_temperature_k  rotational_speed_rpm  \\\n",
       "5119              300.7                  311.5                  1441   \n",
       "1684              298.9                  308.6                  1425   \n",
       "1586              299.2                  308.4                  1476   \n",
       "5091              300.4                  311.4                  1728   \n",
       "1338              298.3                  308.0                  1451   \n",
       "\n",
       "      torque_nm  tool_wear_min  temp_grad          pot  wear_N  x0_H  x0_L  \\\n",
       "5119       40.6             33       10.8  6126.587385  1339.8   0.0   0.0   \n",
       "1684       49.6             35        9.7  7401.592292  1736.0   0.0   0.0   \n",
       "1586       32.7            101        9.2  5054.319925  3302.7   0.0   0.0   \n",
       "5091       31.7            133       11.0  5736.296858  4216.1   0.0   1.0   \n",
       "1338       47.1            196        9.7  7156.767976  9231.6   0.0   1.0   \n",
       "\n",
       "      x0_M  \n",
       "5119   1.0  \n",
       "1684   1.0  \n",
       "1586   1.0  \n",
       "5091   0.0  \n",
       "1338   0.0  "
      ]
     },
     "execution_count": 54,
     "metadata": {},
     "output_type": "execute_result"
    }
   ],
   "source": [
    "#Aplicando OH\n",
    "\n",
    "OH_cols_train = pd.DataFrame(O_H.fit_transform(X_train['type'].values.reshape(-1, 1)))\n",
    "OH_cols_valid = pd.DataFrame(O_H.transform(X_valid['type'].values.reshape(-1, 1)))\n",
    "\n",
    "OH_cols_train.index = X_train.index\n",
    "OH_cols_valid.index = X_valid.index\n",
    "\n",
    "OH_cols_train.columns = O_H.get_feature_names_out()\n",
    "OH_cols_valid.columns = O_H.get_feature_names_out()\n",
    "\n",
    "num_X_train = X_train.drop('type', axis=1)\n",
    "num_X_valid = X_valid.drop('type', axis=1)\n",
    "\n",
    "OH_X_train = pd.concat([num_X_train, OH_cols_train], axis=1)\n",
    "OH_X_valid = pd.concat([num_X_valid, OH_cols_valid], axis=1)\n",
    "\n",
    "OH_X_train.head()"
   ]
  },
  {
   "cell_type": "markdown",
   "id": "b23cf34b-2d91-401c-9bfb-d9b67b7cfca9",
   "metadata": {},
   "source": [
    "Com a parte de operações nos dados aplicada, agora resta a definição do modelo preditivo. \n",
    "Este caso se trata de um caso de classificação, já que temos 6 classificações diferentes: sem falha, falha por desgaste da ferramenta (TWF), falha por dissipação de calor (HDF), falha por potência (PWF), falha por esforço excessivo (OSF) e falha aleatória (RNF). \n",
    "Como cada falha é uma classe única, é então um problema de classificação de multiclasse - ou multiclass classification.\n",
    "\n",
    "Desse modo, aqui será utilizado um modelo de classificação. A princípio, serão comparados três modelos: KNNClassifier,DecisionTreeClassifier e Naive Bayes.\n",
    "\n",
    "O KNN - ou k-Nearest Neighbors - é modelo simples, funciona bem com dados que possuem muito ruído, mas que tem alta demanda computacional se comparado a outros modelos. É bem aplicado em reconhecimento de imagens.\n",
    "\n",
    "O DecisionTreeClassifier é um algoritmo do tipo Árvore de Classificação, com cada nó da árvore denotando um atributo e cada folha denota uma classe. Requer menos pré-processamento de dados que outros modelos, não requerindo normalização dos dados e ausência de dados não afeta a construção da árvore, porém mudanças nos dados podem levar a mudanças na construção da árvore, causando instabilidades, e pode requerer mais tempo para treinar o modelo, o que em certos casos se torna inviável dada a urgência dos processos.\n",
    "\n",
    "O Naive Bayes é um modelo que utiliza o Teorema de Bayes, que diz que a presença de um atributo particular em uma classe não afeta a presença de outra. Mesmo que todos os atributos precisem um do outro para existir, todas contribuem de maneira independente. É um algoritmo rápido, bem utilizado para problemas de classificação multiclasse, requerindo menos dados de treino que outros modelos, contudo sua suposição de que todos os atributos são independentes raramente é verdadeiro, o que limita seu uso em aplicações reais.\n",
    "\n",
    "Observando essas descrições, o modelo utilizado aqui será o Naive Bayes, devido a sua boa aplicação em problemas multiclasse, velocidade e demandar menos volume de dados."
   ]
  },
  {
   "cell_type": "code",
   "execution_count": 66,
   "id": "3df20807-da8a-4fa8-a450-2e0eccc1a99e",
   "metadata": {},
   "outputs": [],
   "source": [
    "from sklearn.naive_bayes import GaussianNB\n",
    "from sklearn.metrics import accuracy_score\n"
   ]
  },
  {
   "cell_type": "markdown",
   "id": "d541d79e-097a-40f5-bade-ed8baed053ee",
   "metadata": {},
   "source": [
    "Com relação ao critério, será usado o Accuracy Score, sendo de mais fácil visualização que uma matriz de confusão, considerando a quantidade de variáveis de saída possíveis. Caso fosse um problema de classificação binário, o uso de matriz de confusão seria mais interessante."
   ]
  },
  {
   "cell_type": "code",
   "execution_count": 67,
   "id": "cc5d4184-2027-4a6b-a9c8-188112b5764f",
   "metadata": {},
   "outputs": [
    {
     "name": "stdout",
     "output_type": "stream",
     "text": [
      "0.9490254872563718\n"
     ]
    }
   ],
   "source": [
    "#Análise do NaiveBayes\n",
    "my_model= GaussianNB()\n",
    "my_model.fit(OH_X_train,y_train)\n",
    "predictions = my_model.predict(OH_X_valid)\n",
    "score = accuracy_score(predictions,y_valid)\n",
    "print(score)"
   ]
  },
  {
   "cell_type": "markdown",
   "id": "436be3dd-8676-4538-8cc2-e67874768b64",
   "metadata": {},
   "source": [
    "O modelo apresenta acurácia de 94%, um bom resultado, portanto pode-se partir para aplicar o modelo nos dados de teste."
   ]
  },
  {
   "cell_type": "code",
   "execution_count": 76,
   "id": "1f35fa9f-9f68-452c-825c-ef2537c71e4d",
   "metadata": {},
   "outputs": [
    {
     "data": {
      "text/html": [
       "<div>\n",
       "<style scoped>\n",
       "    .dataframe tbody tr th:only-of-type {\n",
       "        vertical-align: middle;\n",
       "    }\n",
       "\n",
       "    .dataframe tbody tr th {\n",
       "        vertical-align: top;\n",
       "    }\n",
       "\n",
       "    .dataframe thead th {\n",
       "        text-align: right;\n",
       "    }\n",
       "</style>\n",
       "<table border=\"1\" class=\"dataframe\">\n",
       "  <thead>\n",
       "    <tr style=\"text-align: right;\">\n",
       "      <th></th>\n",
       "      <th>udi</th>\n",
       "      <th>product_id</th>\n",
       "      <th>type</th>\n",
       "      <th>air_temperature_k</th>\n",
       "      <th>process_temperature_k</th>\n",
       "      <th>rotational_speed_rpm</th>\n",
       "      <th>torque_nm</th>\n",
       "      <th>tool_wear_min</th>\n",
       "    </tr>\n",
       "  </thead>\n",
       "  <tbody>\n",
       "    <tr>\n",
       "      <th>0</th>\n",
       "      <td>446</td>\n",
       "      <td>L47625</td>\n",
       "      <td>L</td>\n",
       "      <td>297.5</td>\n",
       "      <td>308.6</td>\n",
       "      <td>1793</td>\n",
       "      <td>26.7</td>\n",
       "      <td>70</td>\n",
       "    </tr>\n",
       "    <tr>\n",
       "      <th>1</th>\n",
       "      <td>7076</td>\n",
       "      <td>L54255</td>\n",
       "      <td>L</td>\n",
       "      <td>300.7</td>\n",
       "      <td>310.5</td>\n",
       "      <td>1536</td>\n",
       "      <td>47.4</td>\n",
       "      <td>192</td>\n",
       "    </tr>\n",
       "    <tr>\n",
       "      <th>2</th>\n",
       "      <td>1191</td>\n",
       "      <td>L48370</td>\n",
       "      <td>L</td>\n",
       "      <td>297.2</td>\n",
       "      <td>308.4</td>\n",
       "      <td>1460</td>\n",
       "      <td>42.1</td>\n",
       "      <td>41</td>\n",
       "    </tr>\n",
       "    <tr>\n",
       "      <th>3</th>\n",
       "      <td>2618</td>\n",
       "      <td>L49797</td>\n",
       "      <td>L</td>\n",
       "      <td>299.4</td>\n",
       "      <td>309.1</td>\n",
       "      <td>1670</td>\n",
       "      <td>35.9</td>\n",
       "      <td>68</td>\n",
       "    </tr>\n",
       "    <tr>\n",
       "      <th>4</th>\n",
       "      <td>5067</td>\n",
       "      <td>L52246</td>\n",
       "      <td>L</td>\n",
       "      <td>304.1</td>\n",
       "      <td>313.1</td>\n",
       "      <td>1550</td>\n",
       "      <td>30.9</td>\n",
       "      <td>9</td>\n",
       "    </tr>\n",
       "  </tbody>\n",
       "</table>\n",
       "</div>"
      ],
      "text/plain": [
       "    udi product_id type  air_temperature_k  process_temperature_k  \\\n",
       "0   446     L47625    L              297.5                  308.6   \n",
       "1  7076     L54255    L              300.7                  310.5   \n",
       "2  1191     L48370    L              297.2                  308.4   \n",
       "3  2618     L49797    L              299.4                  309.1   \n",
       "4  5067     L52246    L              304.1                  313.1   \n",
       "\n",
       "   rotational_speed_rpm  torque_nm  tool_wear_min  \n",
       "0                  1793       26.7             70  \n",
       "1                  1536       47.4            192  \n",
       "2                  1460       42.1             41  \n",
       "3                  1670       35.9             68  \n",
       "4                  1550       30.9              9  "
      ]
     },
     "execution_count": 76,
     "metadata": {},
     "output_type": "execute_result"
    }
   ],
   "source": [
    "#Recebendo dados de teste\n",
    "pred_manu_test = pd.read_csv('desafio_manutencao_preditiva_teste.csv')\n",
    "pred_manu_test.head()"
   ]
  },
  {
   "cell_type": "code",
   "execution_count": 77,
   "id": "40ba17e9-0d1a-4579-a760-95fdfd25411a",
   "metadata": {},
   "outputs": [
    {
     "data": {
      "text/html": [
       "<div>\n",
       "<style scoped>\n",
       "    .dataframe tbody tr th:only-of-type {\n",
       "        vertical-align: middle;\n",
       "    }\n",
       "\n",
       "    .dataframe tbody tr th {\n",
       "        vertical-align: top;\n",
       "    }\n",
       "\n",
       "    .dataframe thead th {\n",
       "        text-align: right;\n",
       "    }\n",
       "</style>\n",
       "<table border=\"1\" class=\"dataframe\">\n",
       "  <thead>\n",
       "    <tr style=\"text-align: right;\">\n",
       "      <th></th>\n",
       "      <th>udi</th>\n",
       "      <th>product_id</th>\n",
       "      <th>type</th>\n",
       "      <th>air_temperature_k</th>\n",
       "      <th>process_temperature_k</th>\n",
       "      <th>rotational_speed_rpm</th>\n",
       "      <th>torque_nm</th>\n",
       "      <th>tool_wear_min</th>\n",
       "      <th>temp_grad</th>\n",
       "      <th>pot</th>\n",
       "      <th>wear_N</th>\n",
       "    </tr>\n",
       "  </thead>\n",
       "  <tbody>\n",
       "    <tr>\n",
       "      <th>0</th>\n",
       "      <td>446</td>\n",
       "      <td>L47625</td>\n",
       "      <td>L</td>\n",
       "      <td>297.5</td>\n",
       "      <td>308.6</td>\n",
       "      <td>1793</td>\n",
       "      <td>26.7</td>\n",
       "      <td>70</td>\n",
       "      <td>11.1</td>\n",
       "      <td>5013.259309</td>\n",
       "      <td>1869.0</td>\n",
       "    </tr>\n",
       "    <tr>\n",
       "      <th>1</th>\n",
       "      <td>7076</td>\n",
       "      <td>L54255</td>\n",
       "      <td>L</td>\n",
       "      <td>300.7</td>\n",
       "      <td>310.5</td>\n",
       "      <td>1536</td>\n",
       "      <td>47.4</td>\n",
       "      <td>192</td>\n",
       "      <td>9.8</td>\n",
       "      <td>7624.268379</td>\n",
       "      <td>9100.8</td>\n",
       "    </tr>\n",
       "    <tr>\n",
       "      <th>2</th>\n",
       "      <td>1191</td>\n",
       "      <td>L48370</td>\n",
       "      <td>L</td>\n",
       "      <td>297.2</td>\n",
       "      <td>308.4</td>\n",
       "      <td>1460</td>\n",
       "      <td>42.1</td>\n",
       "      <td>41</td>\n",
       "      <td>11.2</td>\n",
       "      <td>6436.704468</td>\n",
       "      <td>1726.1</td>\n",
       "    </tr>\n",
       "    <tr>\n",
       "      <th>3</th>\n",
       "      <td>2618</td>\n",
       "      <td>L49797</td>\n",
       "      <td>L</td>\n",
       "      <td>299.4</td>\n",
       "      <td>309.1</td>\n",
       "      <td>1670</td>\n",
       "      <td>35.9</td>\n",
       "      <td>68</td>\n",
       "      <td>9.7</td>\n",
       "      <td>6278.263479</td>\n",
       "      <td>2441.2</td>\n",
       "    </tr>\n",
       "    <tr>\n",
       "      <th>4</th>\n",
       "      <td>5067</td>\n",
       "      <td>L52246</td>\n",
       "      <td>L</td>\n",
       "      <td>304.1</td>\n",
       "      <td>313.1</td>\n",
       "      <td>1550</td>\n",
       "      <td>30.9</td>\n",
       "      <td>9</td>\n",
       "      <td>9.0</td>\n",
       "      <td>5015.552671</td>\n",
       "      <td>278.1</td>\n",
       "    </tr>\n",
       "  </tbody>\n",
       "</table>\n",
       "</div>"
      ],
      "text/plain": [
       "    udi product_id type  air_temperature_k  process_temperature_k  \\\n",
       "0   446     L47625    L              297.5                  308.6   \n",
       "1  7076     L54255    L              300.7                  310.5   \n",
       "2  1191     L48370    L              297.2                  308.4   \n",
       "3  2618     L49797    L              299.4                  309.1   \n",
       "4  5067     L52246    L              304.1                  313.1   \n",
       "\n",
       "   rotational_speed_rpm  torque_nm  tool_wear_min  temp_grad          pot  \\\n",
       "0                  1793       26.7             70       11.1  5013.259309   \n",
       "1                  1536       47.4            192        9.8  7624.268379   \n",
       "2                  1460       42.1             41       11.2  6436.704468   \n",
       "3                  1670       35.9             68        9.7  6278.263479   \n",
       "4                  1550       30.9              9        9.0  5015.552671   \n",
       "\n",
       "   wear_N  \n",
       "0  1869.0  \n",
       "1  9100.8  \n",
       "2  1726.1  \n",
       "3  2441.2  \n",
       "4   278.1  "
      ]
     },
     "execution_count": 77,
     "metadata": {},
     "output_type": "execute_result"
    }
   ],
   "source": [
    "#Tratando dados de teste\n",
    "pred_manu_test['temp_grad'] = pred_manu_test['process_temperature_k'] - pred_manu_test['air_temperature_k']\n",
    "pred_manu_test['pot'] = pred_manu_test['torque_nm']*(pred_manu_test['rotational_speed_rpm']*(2*np.pi)/60)\n",
    "pred_manu_test['wear_N'] = pred_manu_test['tool_wear_min']*pred_manu_test['torque_nm']\n",
    "\n",
    "pred_manu_test.head()"
   ]
  },
  {
   "cell_type": "code",
   "execution_count": 78,
   "id": "a09ecccb-ef75-4a11-998c-15ab8df33509",
   "metadata": {},
   "outputs": [
    {
     "data": {
      "text/html": [
       "<div>\n",
       "<style scoped>\n",
       "    .dataframe tbody tr th:only-of-type {\n",
       "        vertical-align: middle;\n",
       "    }\n",
       "\n",
       "    .dataframe tbody tr th {\n",
       "        vertical-align: top;\n",
       "    }\n",
       "\n",
       "    .dataframe thead th {\n",
       "        text-align: right;\n",
       "    }\n",
       "</style>\n",
       "<table border=\"1\" class=\"dataframe\">\n",
       "  <thead>\n",
       "    <tr style=\"text-align: right;\">\n",
       "      <th></th>\n",
       "      <th>type</th>\n",
       "      <th>air_temperature_k</th>\n",
       "      <th>process_temperature_k</th>\n",
       "      <th>rotational_speed_rpm</th>\n",
       "      <th>torque_nm</th>\n",
       "      <th>tool_wear_min</th>\n",
       "      <th>temp_grad</th>\n",
       "      <th>pot</th>\n",
       "      <th>wear_N</th>\n",
       "    </tr>\n",
       "  </thead>\n",
       "  <tbody>\n",
       "    <tr>\n",
       "      <th>0</th>\n",
       "      <td>L</td>\n",
       "      <td>297.5</td>\n",
       "      <td>308.6</td>\n",
       "      <td>1793</td>\n",
       "      <td>26.7</td>\n",
       "      <td>70</td>\n",
       "      <td>11.1</td>\n",
       "      <td>5013.259309</td>\n",
       "      <td>1869.0</td>\n",
       "    </tr>\n",
       "    <tr>\n",
       "      <th>1</th>\n",
       "      <td>L</td>\n",
       "      <td>300.7</td>\n",
       "      <td>310.5</td>\n",
       "      <td>1536</td>\n",
       "      <td>47.4</td>\n",
       "      <td>192</td>\n",
       "      <td>9.8</td>\n",
       "      <td>7624.268379</td>\n",
       "      <td>9100.8</td>\n",
       "    </tr>\n",
       "    <tr>\n",
       "      <th>2</th>\n",
       "      <td>L</td>\n",
       "      <td>297.2</td>\n",
       "      <td>308.4</td>\n",
       "      <td>1460</td>\n",
       "      <td>42.1</td>\n",
       "      <td>41</td>\n",
       "      <td>11.2</td>\n",
       "      <td>6436.704468</td>\n",
       "      <td>1726.1</td>\n",
       "    </tr>\n",
       "    <tr>\n",
       "      <th>3</th>\n",
       "      <td>L</td>\n",
       "      <td>299.4</td>\n",
       "      <td>309.1</td>\n",
       "      <td>1670</td>\n",
       "      <td>35.9</td>\n",
       "      <td>68</td>\n",
       "      <td>9.7</td>\n",
       "      <td>6278.263479</td>\n",
       "      <td>2441.2</td>\n",
       "    </tr>\n",
       "    <tr>\n",
       "      <th>4</th>\n",
       "      <td>L</td>\n",
       "      <td>304.1</td>\n",
       "      <td>313.1</td>\n",
       "      <td>1550</td>\n",
       "      <td>30.9</td>\n",
       "      <td>9</td>\n",
       "      <td>9.0</td>\n",
       "      <td>5015.552671</td>\n",
       "      <td>278.1</td>\n",
       "    </tr>\n",
       "  </tbody>\n",
       "</table>\n",
       "</div>"
      ],
      "text/plain": [
       "  type  air_temperature_k  process_temperature_k  rotational_speed_rpm  \\\n",
       "0    L              297.5                  308.6                  1793   \n",
       "1    L              300.7                  310.5                  1536   \n",
       "2    L              297.2                  308.4                  1460   \n",
       "3    L              299.4                  309.1                  1670   \n",
       "4    L              304.1                  313.1                  1550   \n",
       "\n",
       "   torque_nm  tool_wear_min  temp_grad          pot  wear_N  \n",
       "0       26.7             70       11.1  5013.259309  1869.0  \n",
       "1       47.4            192        9.8  7624.268379  9100.8  \n",
       "2       42.1             41       11.2  6436.704468  1726.1  \n",
       "3       35.9             68        9.7  6278.263479  2441.2  \n",
       "4       30.9              9        9.0  5015.552671   278.1  "
      ]
     },
     "execution_count": 78,
     "metadata": {},
     "output_type": "execute_result"
    }
   ],
   "source": [
    "pred_manu_test = pred_manu_test.drop(['udi','product_id'],axis = 1)\n",
    "pred_manu_test.head()"
   ]
  },
  {
   "cell_type": "code",
   "execution_count": 80,
   "id": "8b6aaf58-fd7e-4c19-b687-58600fd3553f",
   "metadata": {},
   "outputs": [
    {
     "data": {
      "text/html": [
       "<div>\n",
       "<style scoped>\n",
       "    .dataframe tbody tr th:only-of-type {\n",
       "        vertical-align: middle;\n",
       "    }\n",
       "\n",
       "    .dataframe tbody tr th {\n",
       "        vertical-align: top;\n",
       "    }\n",
       "\n",
       "    .dataframe thead th {\n",
       "        text-align: right;\n",
       "    }\n",
       "</style>\n",
       "<table border=\"1\" class=\"dataframe\">\n",
       "  <thead>\n",
       "    <tr style=\"text-align: right;\">\n",
       "      <th></th>\n",
       "      <th>type</th>\n",
       "      <th>air_temperature_k</th>\n",
       "      <th>process_temperature_k</th>\n",
       "      <th>rotational_speed_rpm</th>\n",
       "      <th>torque_nm</th>\n",
       "      <th>tool_wear_min</th>\n",
       "      <th>temp_grad</th>\n",
       "      <th>pot</th>\n",
       "      <th>wear_N</th>\n",
       "    </tr>\n",
       "  </thead>\n",
       "  <tbody>\n",
       "    <tr>\n",
       "      <th>0</th>\n",
       "      <td>L</td>\n",
       "      <td>297.5</td>\n",
       "      <td>308.6</td>\n",
       "      <td>1793</td>\n",
       "      <td>26.7</td>\n",
       "      <td>70</td>\n",
       "      <td>11.1</td>\n",
       "      <td>5013.259309</td>\n",
       "      <td>1869.0</td>\n",
       "    </tr>\n",
       "    <tr>\n",
       "      <th>1</th>\n",
       "      <td>L</td>\n",
       "      <td>300.7</td>\n",
       "      <td>310.5</td>\n",
       "      <td>1536</td>\n",
       "      <td>47.4</td>\n",
       "      <td>192</td>\n",
       "      <td>9.8</td>\n",
       "      <td>7624.268379</td>\n",
       "      <td>9100.8</td>\n",
       "    </tr>\n",
       "    <tr>\n",
       "      <th>2</th>\n",
       "      <td>L</td>\n",
       "      <td>297.2</td>\n",
       "      <td>308.4</td>\n",
       "      <td>1460</td>\n",
       "      <td>42.1</td>\n",
       "      <td>41</td>\n",
       "      <td>11.2</td>\n",
       "      <td>6436.704468</td>\n",
       "      <td>1726.1</td>\n",
       "    </tr>\n",
       "    <tr>\n",
       "      <th>3</th>\n",
       "      <td>L</td>\n",
       "      <td>299.4</td>\n",
       "      <td>309.1</td>\n",
       "      <td>1670</td>\n",
       "      <td>35.9</td>\n",
       "      <td>68</td>\n",
       "      <td>9.7</td>\n",
       "      <td>6278.263479</td>\n",
       "      <td>2441.2</td>\n",
       "    </tr>\n",
       "    <tr>\n",
       "      <th>4</th>\n",
       "      <td>L</td>\n",
       "      <td>304.1</td>\n",
       "      <td>313.1</td>\n",
       "      <td>1550</td>\n",
       "      <td>30.9</td>\n",
       "      <td>9</td>\n",
       "      <td>9.0</td>\n",
       "      <td>5015.552671</td>\n",
       "      <td>278.1</td>\n",
       "    </tr>\n",
       "  </tbody>\n",
       "</table>\n",
       "</div>"
      ],
      "text/plain": [
       "  type  air_temperature_k  process_temperature_k  rotational_speed_rpm  \\\n",
       "0    L              297.5                  308.6                  1793   \n",
       "1    L              300.7                  310.5                  1536   \n",
       "2    L              297.2                  308.4                  1460   \n",
       "3    L              299.4                  309.1                  1670   \n",
       "4    L              304.1                  313.1                  1550   \n",
       "\n",
       "   torque_nm  tool_wear_min  temp_grad          pot  wear_N  \n",
       "0       26.7             70       11.1  5013.259309  1869.0  \n",
       "1       47.4            192        9.8  7624.268379  9100.8  \n",
       "2       42.1             41       11.2  6436.704468  1726.1  \n",
       "3       35.9             68        9.7  6278.263479  2441.2  \n",
       "4       30.9              9        9.0  5015.552671   278.1  "
      ]
     },
     "execution_count": 80,
     "metadata": {},
     "output_type": "execute_result"
    }
   ],
   "source": [
    "X_test = pred_manu_test.copy()\n",
    "X_test.head()"
   ]
  },
  {
   "cell_type": "code",
   "execution_count": 81,
   "id": "946cb854-487d-4a4b-ab9c-e455dc27dce4",
   "metadata": {},
   "outputs": [
    {
     "data": {
      "text/html": [
       "<div>\n",
       "<style scoped>\n",
       "    .dataframe tbody tr th:only-of-type {\n",
       "        vertical-align: middle;\n",
       "    }\n",
       "\n",
       "    .dataframe tbody tr th {\n",
       "        vertical-align: top;\n",
       "    }\n",
       "\n",
       "    .dataframe thead th {\n",
       "        text-align: right;\n",
       "    }\n",
       "</style>\n",
       "<table border=\"1\" class=\"dataframe\">\n",
       "  <thead>\n",
       "    <tr style=\"text-align: right;\">\n",
       "      <th></th>\n",
       "      <th>air_temperature_k</th>\n",
       "      <th>process_temperature_k</th>\n",
       "      <th>rotational_speed_rpm</th>\n",
       "      <th>torque_nm</th>\n",
       "      <th>tool_wear_min</th>\n",
       "      <th>temp_grad</th>\n",
       "      <th>pot</th>\n",
       "      <th>wear_N</th>\n",
       "      <th>x0_H</th>\n",
       "      <th>x0_L</th>\n",
       "      <th>x0_M</th>\n",
       "    </tr>\n",
       "  </thead>\n",
       "  <tbody>\n",
       "    <tr>\n",
       "      <th>0</th>\n",
       "      <td>297.5</td>\n",
       "      <td>308.6</td>\n",
       "      <td>1793</td>\n",
       "      <td>26.7</td>\n",
       "      <td>70</td>\n",
       "      <td>11.1</td>\n",
       "      <td>5013.259309</td>\n",
       "      <td>1869.0</td>\n",
       "      <td>0.0</td>\n",
       "      <td>1.0</td>\n",
       "      <td>0.0</td>\n",
       "    </tr>\n",
       "    <tr>\n",
       "      <th>1</th>\n",
       "      <td>300.7</td>\n",
       "      <td>310.5</td>\n",
       "      <td>1536</td>\n",
       "      <td>47.4</td>\n",
       "      <td>192</td>\n",
       "      <td>9.8</td>\n",
       "      <td>7624.268379</td>\n",
       "      <td>9100.8</td>\n",
       "      <td>0.0</td>\n",
       "      <td>1.0</td>\n",
       "      <td>0.0</td>\n",
       "    </tr>\n",
       "    <tr>\n",
       "      <th>2</th>\n",
       "      <td>297.2</td>\n",
       "      <td>308.4</td>\n",
       "      <td>1460</td>\n",
       "      <td>42.1</td>\n",
       "      <td>41</td>\n",
       "      <td>11.2</td>\n",
       "      <td>6436.704468</td>\n",
       "      <td>1726.1</td>\n",
       "      <td>0.0</td>\n",
       "      <td>1.0</td>\n",
       "      <td>0.0</td>\n",
       "    </tr>\n",
       "    <tr>\n",
       "      <th>3</th>\n",
       "      <td>299.4</td>\n",
       "      <td>309.1</td>\n",
       "      <td>1670</td>\n",
       "      <td>35.9</td>\n",
       "      <td>68</td>\n",
       "      <td>9.7</td>\n",
       "      <td>6278.263479</td>\n",
       "      <td>2441.2</td>\n",
       "      <td>0.0</td>\n",
       "      <td>1.0</td>\n",
       "      <td>0.0</td>\n",
       "    </tr>\n",
       "    <tr>\n",
       "      <th>4</th>\n",
       "      <td>304.1</td>\n",
       "      <td>313.1</td>\n",
       "      <td>1550</td>\n",
       "      <td>30.9</td>\n",
       "      <td>9</td>\n",
       "      <td>9.0</td>\n",
       "      <td>5015.552671</td>\n",
       "      <td>278.1</td>\n",
       "      <td>0.0</td>\n",
       "      <td>1.0</td>\n",
       "      <td>0.0</td>\n",
       "    </tr>\n",
       "  </tbody>\n",
       "</table>\n",
       "</div>"
      ],
      "text/plain": [
       "   air_temperature_k  process_temperature_k  rotational_speed_rpm  torque_nm  \\\n",
       "0              297.5                  308.6                  1793       26.7   \n",
       "1              300.7                  310.5                  1536       47.4   \n",
       "2              297.2                  308.4                  1460       42.1   \n",
       "3              299.4                  309.1                  1670       35.9   \n",
       "4              304.1                  313.1                  1550       30.9   \n",
       "\n",
       "   tool_wear_min  temp_grad          pot  wear_N  x0_H  x0_L  x0_M  \n",
       "0             70       11.1  5013.259309  1869.0   0.0   1.0   0.0  \n",
       "1            192        9.8  7624.268379  9100.8   0.0   1.0   0.0  \n",
       "2             41       11.2  6436.704468  1726.1   0.0   1.0   0.0  \n",
       "3             68        9.7  6278.263479  2441.2   0.0   1.0   0.0  \n",
       "4              9        9.0  5015.552671   278.1   0.0   1.0   0.0  "
      ]
     },
     "execution_count": 81,
     "metadata": {},
     "output_type": "execute_result"
    }
   ],
   "source": [
    "OH_cols_test = pd.DataFrame(O_H.fit_transform(X_test['type'].values.reshape(-1, 1)))\n",
    "\n",
    "OH_cols_test.index = X_test.index\n",
    "\n",
    "OH_cols_test.columns = O_H.get_feature_names_out()\n",
    "\n",
    "num_X_test = X_test.drop('type', axis=1)\n",
    "\n",
    "OH_X_test = pd.concat([num_X_test, OH_cols_test], axis=1)\n",
    "\n",
    "OH_X_test.head()"
   ]
  },
  {
   "cell_type": "code",
   "execution_count": 82,
   "id": "be4f4e4e-3b75-48cb-b1b3-cc26c3e85a68",
   "metadata": {},
   "outputs": [],
   "source": [
    "test_predictions = my_model.predict(OH_X_test)"
   ]
  },
  {
   "cell_type": "code",
   "execution_count": 101,
   "id": "555684a8-09be-4a26-a1af-51fdab3fc129",
   "metadata": {},
   "outputs": [],
   "source": [
    "#Exportando resultados\n",
    "predicted = pd.DataFrame(test_predictions,)\n",
    "predicted['rowNumber'] = predicted.index\n",
    "predicted.columns = ['predictedValues','rowNumber']\n",
    "predicted = predicted.reindex(['rowNumber','predictedValues'], axis=1)\n",
    "predicted.to_csv('predicted.csv')"
   ]
  }
 ],
 "metadata": {
  "kernelspec": {
   "display_name": "Python 3 (ipykernel)",
   "language": "python",
   "name": "python3"
  },
  "language_info": {
   "codemirror_mode": {
    "name": "ipython",
    "version": 3
   },
   "file_extension": ".py",
   "mimetype": "text/x-python",
   "name": "python",
   "nbconvert_exporter": "python",
   "pygments_lexer": "ipython3",
   "version": "3.9.13"
  }
 },
 "nbformat": 4,
 "nbformat_minor": 5
}
